{
 "cells": [
  {
   "cell_type": "markdown",
   "id": "2bce6f8c-8d24-40df-9195-ed0e5f9dd279",
   "metadata": {},
   "source": [
    "### Tensorflow, 텐서플로우\n",
    "- 구글이 개발한 오픈소스 소프트웨어 라이브러리이며, 머신러닝과 딥러닝을 쉽게 사용할 수 있도록 다양한 기능을 제공한다.\n",
    "- 주로 이미지 인식이나 반복 신경망 구성, 기계 번역, 필기 숫자 판별 등을 위한 각종 신경망 학습에 사용된다.\n",
    "- 딥러닝 모델을 만들 때, 기초부터 세세하게 작업해야 하기 때문에 진입장벽이 높다.\n",
    "\n",
    "<img src=\"./images/tensorflow.png\" width=\"600\" style=\"margin-left: -20px;\">\n",
    "\n",
    "### Keras, 케라스\n",
    "- 일반 사용 사례에 \"최적화, 간단, 일관, 단순화\"된 인터페이스를 제공한다.\n",
    "- 손쉽게 딥러닝 모델을 개발하고 활용할 수 있도록 직관적인 API를 제공한다.\n",
    "- 텐서플로우 2버전 이상부터 케라스가 포함되었기 때문에 텐서플로우를 통해 케라스를 사용한다.\n",
    "- 기존 Keras 패키지보다는 이제 Tensorflow에 내장된 Keras 사용이 더 권장된다."
   ]
  }
 ],
 "metadata": {
  "kernelspec": {
   "display_name": "Python 3 (ipykernel)",
   "language": "python",
   "name": "python3"
  },
  "language_info": {
   "codemirror_mode": {
    "name": "ipython",
    "version": 3
   },
   "file_extension": ".py",
   "mimetype": "text/x-python",
   "name": "python",
   "nbconvert_exporter": "python",
   "pygments_lexer": "ipython3",
   "version": "3.11.8"
  }
 },
 "nbformat": 4,
 "nbformat_minor": 5
}
